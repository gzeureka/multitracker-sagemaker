{
 "cells": [
  {
   "cell_type": "code",
   "execution_count": 2,
   "metadata": {},
   "outputs": [],
   "source": [
    "import requests\n",
    "import json"
   ]
  },
  {
   "cell_type": "code",
   "execution_count": 4,
   "metadata": {},
   "outputs": [],
   "source": [
    "# assign url to variable\n",
    "url = \"http://localhost:8080/invocation\"\n",
    "\n",
    "# define request payload\n",
    "data = {\n",
    "    \"conf_thres\": 0.25, # confidence threshold for human detection\n",
    "    \"iou_thres\": 0.45, # iou threshold for non-max suppression\n",
    "    \"vid_stride\": 1, # stride for video frames\n",
    "    \"source\": \"s3://test-bucket-zt/hms鱼眼素材.mp4\", # s3 location of the video source\n",
    "    \"use_single_file_s3\": True, # whether to use single file from s3\n",
    "    \"output_video_s3_path\": \"s3://output-tracker-bucket/videos\", # output s3 path\n",
    "    \"output_crops_s3_path\": \"s3://output-tracker-bucket/crops\", # output s3 path\n",
    "    \"save_vid\": True, # whether to save video to s3\n",
    "    \"save_to_json_sample\": True # whether to save json sample to s3\n",
    "}\n",
    "# dump request as x-www-form-urlencoded payload\n",
    "headers = {\n",
    "    'content-type': \"application/x-www-form-urlencoded\",\n",
    "    'cache-control': \"no-cache\",\n",
    "    'postman-token': \"64445d8c-6f8f-57b2-39db-d408c2d4f70c\"\n",
    "    }"
   ]
  },
  {
   "cell_type": "code",
   "execution_count": 5,
   "metadata": {},
   "outputs": [
    {
     "name": "stdout",
     "output_type": "stream",
     "text": [
      "61d7eb58-51d1-485a-9080-36b9b2a8b8e3\n"
     ]
    }
   ],
   "source": [
    "response = requests.request(\"POST\", url, data=data, headers=headers)\n",
    "\n",
    "print(response.text)"
   ]
  },
  {
   "cell_type": "code",
   "execution_count": null,
   "metadata": {},
   "outputs": [],
   "source": []
  }
 ],
 "metadata": {
  "kernelspec": {
   "display_name": "torchgpu",
   "language": "python",
   "name": "python3"
  },
  "language_info": {
   "codemirror_mode": {
    "name": "ipython",
    "version": 3
   },
   "file_extension": ".py",
   "mimetype": "text/x-python",
   "name": "python",
   "nbconvert_exporter": "python",
   "pygments_lexer": "ipython3",
   "version": "3.8.15"
  },
  "orig_nbformat": 4
 },
 "nbformat": 4,
 "nbformat_minor": 2
}
